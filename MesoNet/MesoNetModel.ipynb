{
 "nbformat": 4,
 "nbformat_minor": 2,
 "metadata": {
  "language_info": {
   "name": "python",
   "codemirror_mode": {
    "name": "ipython",
    "version": 3
   }
  },
  "orig_nbformat": 2,
  "file_extension": ".py",
  "mimetype": "text/x-python",
  "name": "python",
  "npconvert_exporter": "python",
  "pygments_lexer": "ipython3",
  "version": 3
 },
 "cells": [
  {
   "cell_type": "code",
   "outputs": [],
   "source": [
    "!pip install ../input/mtcnn-package/mtcnn-0.1.0-py3-none-any.whl"
   ],
   "metadata": {},
   "execution_count": null
  },
  {
   "cell_type": "code",
   "execution_count": null,
   "metadata": {},
   "outputs": [],
   "source": [
    "import pandas as pd\n",
    "import keras\n",
    "import os\n",
    "import numpy as np\n",
    "from sklearn.metrics import log_loss\n",
    "from keras import Sequential\n",
    "from keras.layers import *\n",
    "from keras.optimizers import Adam\n",
    "from sklearn.model_selection import train_test_split\n",
    "import cv2\n",
    "from mtcnn import MTCNN\n",
    "from tqdm.notebook import tqdm"
   ]
  },
  {
   "cell_type": "code",
   "execution_count": null,
   "metadata": {},
   "outputs": [],
   "source": [
    "df_trains = pd.read_json('../input/deepfakes/metadata.json')\n",
    "nums = list(range(len(df_trains)))"
   ]
  },
  {
   "cell_type": "code",
   "execution_count": null,
   "metadata": {},
   "outputs": [],
   "source": [
    "from tqdm import tqdm_notebook\n",
    "def read_image(num,name):\n",
    "    num=str(num)\n",
    "    if len(num)==2:\n",
    "        path='../input/deepfakes/DeepFake'+num+'/DeepFake'+num+'/' + x.replace('.mp4', '') + '.jpg'\n",
    "        return cv2.cvtColor(cv2.imread(path), cv2.COLOR_BGR2RGB)\n",
    "    else:\n",
    "        path='../input/deepfakes/DeepFake0'+num+'/DeepFake0'+num+'/' + x.replace('.mp4', '') + '.jpg'\n",
    "        return cv2.cvtColor(cv2.imread(path), cv2.COLOR_BGR2RGB)\n",
    "        \n",
    "X = []\n",
    "y = []\n",
    "for df_train,num in tqdm_notebook(zip(df_trains,nums),total=len(df_trains)):\n",
    "    images = list(df_train.columns.values)\n",
    "    for x in images:\n",
    "        try:\n",
    "            X.append(read_image(num,x))\n",
    "            y.append(LABELS.index(df_train[x]['label']))\n",
    "        except Exception as err:\n",
    "            print(x)"
   ]
  },
  {
   "cell_type": "code",
   "execution_count": null,
   "metadata": {},
   "outputs": [],
   "source": [
    "def define_model():\n",
    "    model = Sequential(\n",
    "        [\n",
    "            Conv2D(8, (3, 3), padding=\"same\", activation = 'elu', input_shape=(92, 92,3)),\n",
    "            BatchNormalization(),\n",
    "            MaxPooling2D(2, 2),\n",
    "            Conv2D(8, (5, 5), padding=\"same\", activation = 'elu'),\n",
    "            BatchNormalization(),\n",
    "            MaxPooling2D(2, 2),\n",
    "            Conv2D(16, (5, 5), padding=\"same\", activation = 'elu'),\n",
    "            BatchNormalization(),\n",
    "            MaxPooling2D(2, 2),\n",
    "            Conv2D(16, (5, 5), padding=\"same\", activation = 'elu'),\n",
    "            BatchNormalization(),\n",
    "            MaxPooling2D(2, 2),\n",
    "            Flatten(),\n",
    "            Dropout(0.5),\n",
    "            Dense(16,activation='relu'),\n",
    "            Dropout(0.5),\n",
    "            Dense(1, activation=\"sigmoid\"),\n",
    "        ]\n",
    "    )\n",
    "    model.compile(loss='mean_squared_error',optimizer=Adam(lr=5e-5))\n",
    "    model.summary()\n",
    "    return model"
   ]
  },
  {
   "cell_type": "code",
   "execution_count": null,
   "metadata": {},
   "outputs": [],
   "source": [
    "model=define_model()\n",
    "model.fit([train_X],[train_y],epochs=15)\n",
    "model.save('model.h5')"
   ]
  },
  {
   "cell_type": "code",
   "execution_count": null,
   "metadata": {},
   "outputs": [],
   "source": [
    "test_dir = '/kaggle/input/deepfake-detection-challenge/test_videos/'\n",
    "filenames=os.listdir(test_dir)\n",
    "test_video_files = [test_dir + x for x in filenames]\n",
    "detector = MTCNN()\n",
    "def detect_face(img):\n",
    "    img = cv2.cvtColor(img, cv2.COLOR_BGR2RGB)\n",
    "    final = []\n",
    "    detected_faces_raw = detector.detect_faces(img)\n",
    "    if detected_faces_raw == []:\n",
    "        print('no faces found, skip to next frame')\n",
    "        return []\n",
    "    for x in detected_faces_raw:\n",
    "        x, y, w, h = x['box']\n",
    "        final.append([x, y, w, h])\n",
    "    return final\n",
    "def crop(img, x, y, w, h):\n",
    "    x -= 40\n",
    "    y -= 40\n",
    "    w += 40\n",
    "    h += 40\n",
    "    if x < 0:\n",
    "        x = 0\n",
    "    if y <= 0:\n",
    "        y = 0\n",
    "    return cv2.cvtColor(cv2.resize(img[y: y + h, x: x + w], (92, 92)), cv2.COLOR_BGR2RGB)\n",
    "def detect_video(video):\n",
    "    cap = cv2.VideoCapture(video)\n",
    "    ret, frame = cap.read()\n",
    "    while True:\n",
    "        ret, frame = cap.read()\n",
    "        bounding_box = detect_face(frame)\n",
    "        if bounding_box == []:\n",
    "            continue\n",
    "        x, y, w, h = bounding_box[0]\n",
    "        return crop(frame, x, y, w, h)\n",
    "test_X = []\n",
    "for video in tqdm(test_video_files):\n",
    "    test_X.append(detect_video(video))"
   ]
  },
  {
   "cell_type": "code",
   "execution_count": null,
   "metadata": {},
   "outputs": [],
   "source": [
    "df_test=pd.read_csv('/kaggle/input/deepfake-detection-challenge/MesoNet.csv')\n",
    "pred=model.predict([test_X])\n",
    "df_test['label']=pred\n",
    "df_test['filename']=filenames\n",
    "df_test.to_csv('MesoNet.csv',index=False)"
   ]
  }
 ]
}